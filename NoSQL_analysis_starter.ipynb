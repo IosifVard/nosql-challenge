{
 "cells": [
  {
   "cell_type": "markdown",
   "id": "9a57c4c6",
   "metadata": {},
   "source": [
    "# Eat Safe, Love"
   ]
  },
  {
   "cell_type": "markdown",
   "id": "064ef857",
   "metadata": {},
   "source": [
    "## Notebook Set Up"
   ]
  },
  {
   "cell_type": "code",
   "execution_count": 29,
   "id": "3ecdd008",
   "metadata": {},
   "outputs": [],
   "source": [
    "from pymongo import MongoClient\n",
    "import pandas as pd\n",
    "from pprint import pprint"
   ]
  },
  {
   "cell_type": "code",
   "execution_count": 30,
   "id": "59390c4a",
   "metadata": {},
   "outputs": [],
   "source": [
    "# Create an instance of MongoClient\n",
    "mongo = MongoClient(port=27017)"
   ]
  },
  {
   "cell_type": "code",
   "execution_count": 31,
   "id": "71e373c1",
   "metadata": {},
   "outputs": [],
   "source": [
    "# assign the uk_food database to a variable name\n",
    "db = mongo['uk_food']"
   ]
  },
  {
   "cell_type": "code",
   "execution_count": 32,
   "id": "cdc1b0bd",
   "metadata": {},
   "outputs": [
    {
     "name": "stdout",
     "output_type": "stream",
     "text": [
      "Collections in the database: ['establishments']\n"
     ]
    }
   ],
   "source": [
    "# Review the collections in our database\n",
    "print(f\"Collections in the database: {db.list_collection_names()}\")"
   ]
  },
  {
   "cell_type": "code",
   "execution_count": 35,
   "id": "3a642a8c",
   "metadata": {},
   "outputs": [],
   "source": [
    "# Query and print documents from the collection\n",
    "for document in collection.find():\n",
    "    pprint(document)"
   ]
  },
  {
   "cell_type": "code",
   "execution_count": 34,
   "id": "18ab463c",
   "metadata": {},
   "outputs": [
    {
     "name": "stdout",
     "output_type": "stream",
     "text": [
      "['establishments']\n"
     ]
    }
   ],
   "source": [
    "# review the collections in our database\n",
    "print(db.list_collection_names())"
   ]
  },
  {
   "cell_type": "code",
   "execution_count": 33,
   "id": "11c9f11b",
   "metadata": {},
   "outputs": [],
   "source": [
    "# assign the collection to a variable\n",
    "establishments = db['establishments']"
   ]
  },
  {
   "cell_type": "markdown",
   "id": "d5671434",
   "metadata": {},
   "source": [
    "## Part 3: Exploratory Analysis\n",
    "Unless otherwise stated, for each question: \n",
    "* Use `count_documents` to display the number of documents contained in the result.\n",
    "* Display the first document in the results using `pprint`.\n",
    "* Convert the result to a Pandas DataFrame, print the number of rows in the DataFrame, and display the first 10 rows."
   ]
  },
  {
   "cell_type": "markdown",
   "id": "314bd884",
   "metadata": {},
   "source": [
    "### 1. Which establishments have a hygiene score equal to 20?"
   ]
  },
  {
   "cell_type": "code",
   "execution_count": 36,
   "id": "c2da7648",
   "metadata": {},
   "outputs": [
    {
     "name": "stdout",
     "output_type": "stream",
     "text": [
      "Number of establishments with a hygiene score of 20: 41\n",
      "{'AddressLine1': '5-6 Southfields Road',\n",
      " 'AddressLine2': 'Eastbourne',\n",
      " 'AddressLine3': 'East Sussex',\n",
      " 'AddressLine4': '',\n",
      " 'BusinessName': 'The Chase Rest Home',\n",
      " 'BusinessType': 'Caring Premises',\n",
      " 'BusinessTypeID': 5,\n",
      " 'ChangesByServerID': 0,\n",
      " 'Distance': 4613.888288172291,\n",
      " 'FHRSID': 110681,\n",
      " 'LocalAuthorityBusinessID': '4029',\n",
      " 'LocalAuthorityCode': '102',\n",
      " 'LocalAuthorityEmailAddress': 'Customerfirst@eastbourne.gov.uk',\n",
      " 'LocalAuthorityName': 'Eastbourne',\n",
      " 'LocalAuthorityWebSite': 'http://www.eastbourne.gov.uk/foodratings',\n",
      " 'NewRatingPending': False,\n",
      " 'Phone': '',\n",
      " 'PostCode': 'BN21 1BU',\n",
      " 'RatingDate': '2021-09-23T00:00:00',\n",
      " 'RatingKey': 'fhrs_0_en-gb',\n",
      " 'RatingValue': '0',\n",
      " 'RightToReply': '',\n",
      " 'SchemeType': 'FHRS',\n",
      " '_id': ObjectId('66f8ac3fb1720f347db37809'),\n",
      " 'geocode': {'latitude': Decimal128('50.769705'),\n",
      "             'longitude': Decimal128('0.27694')},\n",
      " 'links': [{'href': 'https://api.ratings.food.gov.uk/establishments/110681',\n",
      "            'rel': 'self'}],\n",
      " 'meta': {'dataSource': None,\n",
      "          'extractDate': '0001-01-01T00:00:00',\n",
      "          'itemCount': 0,\n",
      "          'pageNumber': 0,\n",
      "          'pageSize': 0,\n",
      "          'returncode': None,\n",
      "          'totalCount': 0,\n",
      "          'totalPages': 0},\n",
      " 'scores': {'ConfidenceInManagement': 20, 'Hygiene': 20, 'Structural': 20}}\n"
     ]
    }
   ],
   "source": [
    "# Find the establishments with a hygiene score of 20\n",
    "query = {\"scores.Hygiene\": 20}\n",
    "\n",
    "# Use count_documents to display the number of documents in the result\n",
    "num_docs = establishments.count_documents(query)\n",
    "print(f\"Number of establishments with a hygiene score of 20: {num_docs}\")\n",
    "\n",
    "# Display the first document in the results using pprint\n",
    "pprint(establishments.find_one(query))"
   ]
  },
  {
   "cell_type": "code",
   "execution_count": 42,
   "id": "4b5fe95e",
   "metadata": {},
   "outputs": [
    {
     "name": "stdout",
     "output_type": "stream",
     "text": [
      "{'AddressLine1': '5-6 Southfields Road',\n",
      " 'AddressLine2': 'Eastbourne',\n",
      " 'AddressLine3': 'East Sussex',\n",
      " 'AddressLine4': '',\n",
      " 'BusinessName': 'The Chase Rest Home',\n",
      " 'BusinessType': 'Caring Premises',\n",
      " 'BusinessTypeID': 5,\n",
      " 'ChangesByServerID': 0,\n",
      " 'Distance': 4613.888288172291,\n",
      " 'FHRSID': 110681,\n",
      " 'LocalAuthorityBusinessID': '4029',\n",
      " 'LocalAuthorityCode': '102',\n",
      " 'LocalAuthorityEmailAddress': 'Customerfirst@eastbourne.gov.uk',\n",
      " 'LocalAuthorityName': 'Eastbourne',\n",
      " 'LocalAuthorityWebSite': 'http://www.eastbourne.gov.uk/foodratings',\n",
      " 'NewRatingPending': False,\n",
      " 'Phone': '',\n",
      " 'PostCode': 'BN21 1BU',\n",
      " 'RatingDate': '2021-09-23T00:00:00',\n",
      " 'RatingKey': 'fhrs_0_en-gb',\n",
      " 'RatingValue': '0',\n",
      " 'RightToReply': '',\n",
      " 'SchemeType': 'FHRS',\n",
      " '_id': ObjectId('66f8ac3fb1720f347db37809'),\n",
      " 'geocode': {'latitude': Decimal128('50.769705'),\n",
      "             'longitude': Decimal128('0.27694')},\n",
      " 'links': [{'href': 'https://api.ratings.food.gov.uk/establishments/110681',\n",
      "            'rel': 'self'}],\n",
      " 'meta': {'dataSource': None,\n",
      "          'extractDate': '0001-01-01T00:00:00',\n",
      "          'itemCount': 0,\n",
      "          'pageNumber': 0,\n",
      "          'pageSize': 0,\n",
      "          'returncode': None,\n",
      "          'totalCount': 0,\n",
      "          'totalPages': 0},\n",
      " 'scores': {'ConfidenceInManagement': 20, 'Hygiene': 20, 'Structural': 20}}\n"
     ]
    }
   ],
   "source": [
    "\n",
    "# Display the first document in the results using pprint\n",
    "if num_docs > 0:\n",
    "    pprint(establishments.find_one(query))\n",
    "\n",
    "# Convert the result to a Pandas DataFrame\n",
    "num_docs = list(establishments.find(query))\n",
    "df_num_docs = pd.DataFrame(num_docs)"
   ]
  },
  {
   "cell_type": "code",
   "execution_count": 43,
   "id": "a6e5cece",
   "metadata": {},
   "outputs": [
    {
     "name": "stdout",
     "output_type": "stream",
     "text": [
      "Number of rows in the DataFrame: 41\n",
      "                        _id   FHRSID  ChangesByServerID  \\\n",
      "0  66f8ac3fb1720f347db37809   110681                  0   \n",
      "1  66f8ac3fb1720f347db37b8f   612039                  0   \n",
      "2  66f8ac3fb1720f347db37e94   730933                  0   \n",
      "3  66f8ac3fb1720f347db38081   172735                  0   \n",
      "4  66f8ac3fb1720f347db38093   172953                  0   \n",
      "5  66f8ac3fb1720f347db38a31   512854                  0   \n",
      "6  66f8ac3fb1720f347db38c52  1537089                  0   \n",
      "7  66f8ac3fb1720f347db3a17d   155648                  0   \n",
      "8  66f8ac3fb1720f347db3a5c8  1012883                  0   \n",
      "9  66f8ac3fb1720f347db3add3   644109                  0   \n",
      "\n",
      "  LocalAuthorityBusinessID               BusinessName  \\\n",
      "0                     4029        The Chase Rest Home   \n",
      "1                1970/FOOD                 Brenalwood   \n",
      "2                1698/FOOD              Melrose Hotel   \n",
      "3             PI/000023858              Seaford Pizza   \n",
      "4             PI/000024532              Golden Palace   \n",
      "5            12/00816/BUTH           Ashby's Butchers   \n",
      "6          22/00224/RESTUN  South Sea Express Cuisine   \n",
      "7              EH/00006058              Golden Palace   \n",
      "8         17/00110/MIXED/S             The Tulip Tree   \n",
      "9                    41811                      F & S   \n",
      "\n",
      "                        BusinessType  BusinessTypeID           AddressLine1  \\\n",
      "0                    Caring Premises               5   5-6 Southfields Road   \n",
      "1                    Caring Premises               5              Hall Lane   \n",
      "2  Hotel/bed & breakfast/guest house            7842  53 Marine Parade East   \n",
      "3             Takeaway/sandwich shop            7844          4 High Street   \n",
      "4            Restaurant/Cafe/Canteen               1         5 South Street   \n",
      "5                  Retailers - other            4613   777 Southchurch Road   \n",
      "6            Restaurant/Cafe/Canteen               1    33 Alexandra Street   \n",
      "7             Takeaway/sandwich shop            7844          7 London Road   \n",
      "8            Restaurant/Cafe/Canteen               1          3 The Village   \n",
      "9                  Retailers - other            4613                          \n",
      "\n",
      "         AddressLine2 AddressLine3  ...  \\\n",
      "0          Eastbourne  East Sussex  ...   \n",
      "1  Walton-on-the-Naze        Essex  ...   \n",
      "2      Clacton On Sea        Essex  ...   \n",
      "3             Seaford  East Sussex  ...   \n",
      "4             Seaford  East Sussex  ...   \n",
      "5     Southend-On-Sea        Essex  ...   \n",
      "6     Southend-on-sea        Essex  ...   \n",
      "7            Rayleigh        Essex  ...   \n",
      "8       Chiddingstone         KENT  ...   \n",
      "9      81 Southernhay     Basildon  ...   \n",
      "\n",
      "                      LocalAuthorityWebSite  \\\n",
      "0  http://www.eastbourne.gov.uk/foodratings   \n",
      "1             http://www.tendringdc.gov.uk/   \n",
      "2             http://www.tendringdc.gov.uk/   \n",
      "3       http://www.lewes-eastbourne.gov.uk/   \n",
      "4       http://www.lewes-eastbourne.gov.uk/   \n",
      "5                http://www.southend.gov.uk   \n",
      "6                http://www.southend.gov.uk   \n",
      "7                http://www.rochford.gov.uk   \n",
      "8              http://www.sevenoaks.gov.uk/   \n",
      "9                http://www.basildon.gov.uk   \n",
      "\n",
      "              LocalAuthorityEmailAddress  \\\n",
      "0        Customerfirst@eastbourne.gov.uk   \n",
      "1             fhsadmin@tendringdc.gov.uk   \n",
      "2             fhsadmin@tendringdc.gov.uk   \n",
      "3    ehealth.ldc@lewes-eastbourne.gov.uk   \n",
      "4    ehealth.ldc@lewes-eastbourne.gov.uk   \n",
      "5    EnvironmentalHealth@southend.gov.uk   \n",
      "6    EnvironmentalHealth@southend.gov.uk   \n",
      "7       customerservices@rochford.gov.uk   \n",
      "8  environmental.health@sevenoaks.gov.uk   \n",
      "9                    ehs@basildon.gov.uk   \n",
      "\n",
      "                                              scores SchemeType  \\\n",
      "0  {'Hygiene': 20, 'Structural': 20, 'ConfidenceI...       FHRS   \n",
      "1  {'Hygiene': 20, 'Structural': 15, 'ConfidenceI...       FHRS   \n",
      "2  {'Hygiene': 20, 'Structural': 20, 'ConfidenceI...       FHRS   \n",
      "3  {'Hygiene': 20, 'Structural': 10, 'ConfidenceI...       FHRS   \n",
      "4  {'Hygiene': 20, 'Structural': 10, 'ConfidenceI...       FHRS   \n",
      "5  {'Hygiene': 20, 'Structural': 20, 'ConfidenceI...       FHRS   \n",
      "6  {'Hygiene': 20, 'Structural': 20, 'ConfidenceI...       FHRS   \n",
      "7  {'Hygiene': 20, 'Structural': 15, 'ConfidenceI...       FHRS   \n",
      "8  {'Hygiene': 20, 'Structural': 5, 'ConfidenceIn...       FHRS   \n",
      "9  {'Hygiene': 20, 'Structural': 20, 'ConfidenceI...       FHRS   \n",
      "\n",
      "                                             geocode RightToReply  \\\n",
      "0      {'longitude': 0.27694, 'latitude': 50.769705}                \n",
      "1     {'longitude': 1.278721, 'latitude': 51.857536}                \n",
      "2      {'longitude': 1.15927, 'latitude': 51.789429}                \n",
      "3      {'longitude': 0.10202, 'latitude': 50.770885}                \n",
      "4     {'longitude': 0.101446, 'latitude': 50.770724}                \n",
      "5     {'longitude': 0.736349, 'latitude': 51.541448}                \n",
      "6   {'longitude': 0.7121671, 'latitude': 51.5350065}                \n",
      "7     {'longitude': 0.602364, 'latitude': 51.591515}                \n",
      "8  {'longitude': 0.146449998021126, 'latitude': 5...                \n",
      "9      {'longitude': 0.462307, 'latitude': 51.57005}                \n",
      "\n",
      "      Distance NewRatingPending  \\\n",
      "0  4613.888288            False   \n",
      "1  4617.965824            False   \n",
      "2  4619.656144            False   \n",
      "3  4620.421725            False   \n",
      "4  4620.437179            False   \n",
      "5  4625.565258            False   \n",
      "6  4626.200132            False   \n",
      "7  4632.276890            False   \n",
      "8  4633.934041            False   \n",
      "9  4636.552523            False   \n",
      "\n",
      "                                                meta  \\\n",
      "0  {'dataSource': None, 'extractDate': '0001-01-0...   \n",
      "1  {'dataSource': None, 'extractDate': '0001-01-0...   \n",
      "2  {'dataSource': None, 'extractDate': '0001-01-0...   \n",
      "3  {'dataSource': None, 'extractDate': '0001-01-0...   \n",
      "4  {'dataSource': None, 'extractDate': '0001-01-0...   \n",
      "5  {'dataSource': None, 'extractDate': '0001-01-0...   \n",
      "6  {'dataSource': None, 'extractDate': '0001-01-0...   \n",
      "7  {'dataSource': None, 'extractDate': '0001-01-0...   \n",
      "8  {'dataSource': None, 'extractDate': '0001-01-0...   \n",
      "9  {'dataSource': None, 'extractDate': '0001-01-0...   \n",
      "\n",
      "                                               links  \n",
      "0  [{'rel': 'self', 'href': 'https://api.ratings....  \n",
      "1  [{'rel': 'self', 'href': 'https://api.ratings....  \n",
      "2  [{'rel': 'self', 'href': 'https://api.ratings....  \n",
      "3  [{'rel': 'self', 'href': 'https://api.ratings....  \n",
      "4  [{'rel': 'self', 'href': 'https://api.ratings....  \n",
      "5  [{'rel': 'self', 'href': 'https://api.ratings....  \n",
      "6  [{'rel': 'self', 'href': 'https://api.ratings....  \n",
      "7  [{'rel': 'self', 'href': 'http://api.ratings.f...  \n",
      "8  [{'rel': 'self', 'href': 'http://api.ratings.f...  \n",
      "9  [{'rel': 'self', 'href': 'http://api.ratings.f...  \n",
      "\n",
      "[10 rows x 28 columns]\n"
     ]
    }
   ],
   "source": [
    "# Convert the result to a Pandas DataFrame\n",
    "results = list(establishments.find(query))\n",
    "df_hygiene_20 = pd.DataFrame(results)\n",
    "\n",
    "# Display the number of rows in the DataFrame\n",
    "print(f\"Number of rows in the DataFrame: {len(df_hygiene_20)}\")\n",
    "\n",
    "# Display the first 10 rows of the DataFrame\n",
    "print(df_hygiene_20.head(10))"
   ]
  },
  {
   "cell_type": "markdown",
   "id": "0ef4395a",
   "metadata": {},
   "source": [
    "### 2. Which establishments in London have a `RatingValue` greater than or equal to 4?"
   ]
  },
  {
   "cell_type": "code",
   "execution_count": 45,
   "id": "93c63829",
   "metadata": {},
   "outputs": [
    {
     "name": "stdout",
     "output_type": "stream",
     "text": [
      "Number of establishments in London with RatingValue >= 4: 0\n",
      "None\n"
     ]
    }
   ],
   "source": [
    "# Find the establishments with London as the Local Authority and has a RatingValue greater than or equal to 4.\n",
    "query = {\"LocalAuthorityName\": \"London\", \"RatingValue\": {\"$gte\": 4}}\n",
    "\n",
    "# Use count_documents to display the number of documents in the result\n",
    "num_docs_london = establishments.count_documents(query)\n",
    "print(f\"Number of establishments in London with RatingValue >= 4: {num_docs_london}\")\n",
    "\n",
    "# Display the first document in the results using pprint\n",
    "pprint(establishments.find_one(query))"
   ]
  },
  {
   "cell_type": "code",
   "execution_count": 46,
   "id": "07e24ccb",
   "metadata": {},
   "outputs": [
    {
     "name": "stdout",
     "output_type": "stream",
     "text": [
      "Number of rows in the DataFrame: 0\n",
      "Empty DataFrame\n",
      "Columns: []\n",
      "Index: []\n"
     ]
    }
   ],
   "source": [
    "# Convert the result to a Pandas DataFrame\n",
    "results_london = list(establishments.find(query))\n",
    "df_london_ratings = pd.DataFrame(results_london)\n",
    "\n",
    "# Display the number of rows in the DataFrame\n",
    "print(f\"Number of rows in the DataFrame: {len(df_london_ratings)}\")\n",
    "\n",
    "# Display the first 10 rows of the DataFrame\n",
    "print(df_london_ratings.head(10))"
   ]
  },
  {
   "attachments": {},
   "cell_type": "markdown",
   "id": "4e570caf",
   "metadata": {},
   "source": [
    "### 3. What are the top 5 establishments with a `RatingValue` rating value of 5, sorted by lowest hygiene score, nearest to the new restaurant added, \"Penang Flavours\"?"
   ]
  },
  {
   "cell_type": "code",
   "execution_count": 60,
   "id": "7f599f3d",
   "metadata": {},
   "outputs": [],
   "source": [
    "# Search within 0.01 degree on either side of the latitude and longitude.\n",
    "# Rating value must equal 5\n",
    "# Sort by hygiene score\n",
    "\n",
    "degree_search = 0.01 # Example coordinates (central London)\n",
    "latitude =51.509865  \n",
    "longitude =-0.11809\n",
    "\n",
    "query = {\"RatingValue\": 5,\n",
    "    \"geocode.latitude\": {\"$gte\": latitude - degree_search, \"$lte\": latitude + degree_search},\n",
    "    \"geocode.longitude\": {\"$gte\": longitude - degree_search, \"$lte\": longitude + degree_search}\n",
    "}\n",
    "sort = [(\"scores.Hygiene\", 1)]\n",
    "limit = 10\n",
    "\n",
    "# Print the results\n"
   ]
  },
  {
   "cell_type": "code",
   "execution_count": 61,
   "id": "995c6159",
   "metadata": {},
   "outputs": [],
   "source": [
    "# Execute query and print the results\n",
    "results_query = list(establishments.find(query).sort(sort).limit(limit))\n",
    "if results_query:\n",
    "    pprint(results_query)"
   ]
  },
  {
   "cell_type": "code",
   "execution_count": 62,
   "id": "a6ad16f7",
   "metadata": {},
   "outputs": [],
   "source": [
    "# Convert result to Pandas DataFrame\n",
    "df_query = pd.DataFrame(results_query)"
   ]
  },
  {
   "cell_type": "markdown",
   "id": "67281254",
   "metadata": {},
   "source": [
    "### 4. How many establishments in each Local Authority area have a hygiene score of 0?"
   ]
  },
  {
   "cell_type": "code",
   "execution_count": 63,
   "id": "4eeb227e",
   "metadata": {},
   "outputs": [
    {
     "name": "stdout",
     "output_type": "stream",
     "text": [
      "Number of Local Authorities with establishments having hygiene score of 0: 55\n",
      "[{'_id': 'Thanet', 'count': 1130},\n",
      " {'_id': 'Greenwich', 'count': 882},\n",
      " {'_id': 'Maidstone', 'count': 713},\n",
      " {'_id': 'Newham', 'count': 711},\n",
      " {'_id': 'Swale', 'count': 686},\n",
      " {'_id': 'Chelmsford', 'count': 680},\n",
      " {'_id': 'Medway', 'count': 672},\n",
      " {'_id': 'Bexley', 'count': 607},\n",
      " {'_id': 'Southend-On-Sea', 'count': 586},\n",
      " {'_id': 'Tendring', 'count': 542}]\n"
     ]
    }
   ],
   "source": [
    "# Create a pipeline that:\n",
    "# 1. Matches establishments with a hygiene score of 0\n",
    "# 2. Groups the matches by Local Authority\n",
    "# 3. Sorts the matches from highest to lowest\n",
    "\n",
    "pipeline = [\n",
    "    {\"$match\": {\"scores.Hygiene\": 0}},  # Match hygiene score of 0\n",
    "    {\"$group\": {\"_id\": \"$LocalAuthorityName\", \"count\": {\"$sum\": 1}}},  # Group by Local Authority\n",
    "    {\"$sort\": {\"count\": -1}}  # Sort from highest to lowest\n",
    "]\n",
    "\n",
    "# Execute the pipeline\n",
    "result_pipeline = list(establishments.aggregate(pipeline))\n",
    "\n",
    "# Print the number of documents in the result\n",
    "if result_pipeline:\n",
    "    print(f\"Number of Local Authorities with establishments having hygiene score of 0: {len(result_pipeline)}\")\n",
    "\n",
    "# Print the first 10 results\n",
    "pprint(result_pipeline[:10])"
   ]
  },
  {
   "cell_type": "code",
   "execution_count": 64,
   "id": "d8aab364",
   "metadata": {},
   "outputs": [
    {
     "name": "stdout",
     "output_type": "stream",
     "text": [
      "Number of rows in the DataFrame for hygiene score pipeline: 55\n",
      "               _id  count\n",
      "0           Thanet   1130\n",
      "1        Greenwich    882\n",
      "2        Maidstone    713\n",
      "3           Newham    711\n",
      "4            Swale    686\n",
      "5       Chelmsford    680\n",
      "6           Medway    672\n",
      "7           Bexley    607\n",
      "8  Southend-On-Sea    586\n",
      "9         Tendring    542\n"
     ]
    }
   ],
   "source": [
    "# Convert the result to a Pandas DataFrame\n",
    "df_pipeline = pd.DataFrame(result_pipeline)\n",
    "\n",
    "# Display the number of rows in the DataFrame\n",
    "print(f\"Number of rows in the DataFrame for hygiene score pipeline: {len(df_pipeline)}\")\n",
    "\n",
    "# Display the first 10 rows of the DataFrame\n",
    "print(df_pipeline.head(10))"
   ]
  }
 ],
 "metadata": {
  "kernelspec": {
   "display_name": "Python 3 (ipykernel)",
   "language": "python",
   "name": "python3"
  },
  "language_info": {
   "codemirror_mode": {
    "name": "ipython",
    "version": 3
   },
   "file_extension": ".py",
   "mimetype": "text/x-python",
   "name": "python",
   "nbconvert_exporter": "python",
   "pygments_lexer": "ipython3",
   "version": "3.10.14"
  }
 },
 "nbformat": 4,
 "nbformat_minor": 5
}
